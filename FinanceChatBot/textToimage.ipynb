{
 "cells": [
  {
   "cell_type": "code",
   "execution_count": 1,
   "id": "281fd4e8-06f3-4bf0-8f16-5514f729acd7",
   "metadata": {},
   "outputs": [],
   "source": [
    "from diffusers import StableDiffusionPipeline, EulerDiscreteScheduler\n",
    "import torch\n"
   ]
  },
  {
   "cell_type": "code",
   "execution_count": 2,
   "id": "0d555cd2-9a8b-4e77-8efa-b8f9033ea516",
   "metadata": {},
   "outputs": [],
   "source": [
    "model_id = \"stabilityai/stable-diffusion-2\"\n",
    "scheduler = EulerDiscreteScheduler.from_pretrained(model_id, subfolder=\"scheduler\")\n"
   ]
  },
  {
   "cell_type": "code",
   "execution_count": 1,
   "id": "2254745a-d6ab-4214-8c5c-2c4b4e42ae8c",
   "metadata": {},
   "outputs": [
    {
     "name": "stdout",
     "output_type": "stream",
     "text": [
      "Collecting accelerate\n",
      "  Downloading accelerate-1.2.1-py3-none-any.whl.metadata (19 kB)\n",
      "Requirement already satisfied: numpy<3.0.0,>=1.17 in c:\\users\\dell\\application\\techathon\\dataset_finance_chatbot\\lib\\site-packages (from accelerate) (2.2.1)\n",
      "Requirement already satisfied: packaging>=20.0 in c:\\users\\dell\\application\\techathon\\dataset_finance_chatbot\\lib\\site-packages (from accelerate) (24.2)\n",
      "Requirement already satisfied: psutil in c:\\users\\dell\\application\\techathon\\dataset_finance_chatbot\\lib\\site-packages (from accelerate) (6.1.1)\n",
      "Requirement already satisfied: pyyaml in c:\\users\\dell\\application\\techathon\\dataset_finance_chatbot\\lib\\site-packages (from accelerate) (6.0.2)\n",
      "Requirement already satisfied: torch>=1.10.0 in c:\\users\\dell\\application\\techathon\\dataset_finance_chatbot\\lib\\site-packages (from accelerate) (2.5.1)\n",
      "Requirement already satisfied: huggingface-hub>=0.21.0 in c:\\users\\dell\\application\\techathon\\dataset_finance_chatbot\\lib\\site-packages (from accelerate) (0.27.1)\n",
      "Requirement already satisfied: safetensors>=0.4.3 in c:\\users\\dell\\application\\techathon\\dataset_finance_chatbot\\lib\\site-packages (from accelerate) (0.5.1)\n",
      "Requirement already satisfied: filelock in c:\\users\\dell\\application\\techathon\\dataset_finance_chatbot\\lib\\site-packages (from huggingface-hub>=0.21.0->accelerate) (3.16.1)\n",
      "Requirement already satisfied: fsspec>=2023.5.0 in c:\\users\\dell\\application\\techathon\\dataset_finance_chatbot\\lib\\site-packages (from huggingface-hub>=0.21.0->accelerate) (2024.12.0)\n",
      "Requirement already satisfied: requests in c:\\users\\dell\\application\\techathon\\dataset_finance_chatbot\\lib\\site-packages (from huggingface-hub>=0.21.0->accelerate) (2.32.3)\n",
      "Requirement already satisfied: tqdm>=4.42.1 in c:\\users\\dell\\application\\techathon\\dataset_finance_chatbot\\lib\\site-packages (from huggingface-hub>=0.21.0->accelerate) (4.67.1)\n",
      "Requirement already satisfied: typing-extensions>=3.7.4.3 in c:\\users\\dell\\application\\techathon\\dataset_finance_chatbot\\lib\\site-packages (from huggingface-hub>=0.21.0->accelerate) (4.12.2)\n",
      "Requirement already satisfied: networkx in c:\\users\\dell\\application\\techathon\\dataset_finance_chatbot\\lib\\site-packages (from torch>=1.10.0->accelerate) (3.4.2)\n",
      "Requirement already satisfied: jinja2 in c:\\users\\dell\\application\\techathon\\dataset_finance_chatbot\\lib\\site-packages (from torch>=1.10.0->accelerate) (3.1.5)\n",
      "Requirement already satisfied: setuptools in c:\\users\\dell\\application\\techathon\\dataset_finance_chatbot\\lib\\site-packages (from torch>=1.10.0->accelerate) (75.7.0)\n",
      "Requirement already satisfied: sympy==1.13.1 in c:\\users\\dell\\application\\techathon\\dataset_finance_chatbot\\lib\\site-packages (from torch>=1.10.0->accelerate) (1.13.1)\n",
      "Requirement already satisfied: mpmath<1.4,>=1.1.0 in c:\\users\\dell\\application\\techathon\\dataset_finance_chatbot\\lib\\site-packages (from sympy==1.13.1->torch>=1.10.0->accelerate) (1.3.0)\n",
      "Requirement already satisfied: colorama in c:\\users\\dell\\application\\techathon\\dataset_finance_chatbot\\lib\\site-packages (from tqdm>=4.42.1->huggingface-hub>=0.21.0->accelerate) (0.4.6)\n",
      "Requirement already satisfied: MarkupSafe>=2.0 in c:\\users\\dell\\application\\techathon\\dataset_finance_chatbot\\lib\\site-packages (from jinja2->torch>=1.10.0->accelerate) (3.0.2)\n",
      "Requirement already satisfied: charset-normalizer<4,>=2 in c:\\users\\dell\\application\\techathon\\dataset_finance_chatbot\\lib\\site-packages (from requests->huggingface-hub>=0.21.0->accelerate) (3.4.1)\n",
      "Requirement already satisfied: idna<4,>=2.5 in c:\\users\\dell\\application\\techathon\\dataset_finance_chatbot\\lib\\site-packages (from requests->huggingface-hub>=0.21.0->accelerate) (3.10)\n",
      "Requirement already satisfied: urllib3<3,>=1.21.1 in c:\\users\\dell\\application\\techathon\\dataset_finance_chatbot\\lib\\site-packages (from requests->huggingface-hub>=0.21.0->accelerate) (2.3.0)\n",
      "Requirement already satisfied: certifi>=2017.4.17 in c:\\users\\dell\\application\\techathon\\dataset_finance_chatbot\\lib\\site-packages (from requests->huggingface-hub>=0.21.0->accelerate) (2024.12.14)\n",
      "Downloading accelerate-1.2.1-py3-none-any.whl (336 kB)\n",
      "Installing collected packages: accelerate\n",
      "Successfully installed accelerate-1.2.1\n",
      "Note: you may need to restart the kernel to use updated packages.\n"
     ]
    },
    {
     "name": "stderr",
     "output_type": "stream",
     "text": [
      "\n",
      "[notice] A new release of pip is available: 24.2 -> 24.3.1\n",
      "[notice] To update, run: python.exe -m pip install --upgrade pip\n"
     ]
    }
   ],
   "source": [
    "pip install accelerate"
   ]
  },
  {
   "cell_type": "code",
   "execution_count": null,
   "id": "9e21ec32-a135-41e3-afb5-6b09cde74586",
   "metadata": {},
   "outputs": [
    {
     "data": {
      "application/vnd.jupyter.widget-view+json": {
       "model_id": "bd5d742e819544368a7fcdab78dea4e1",
       "version_major": 2,
       "version_minor": 0
      },
      "text/plain": [
       "Fetching 12 files:   0%|          | 0/12 [00:00<?, ?it/s]"
      ]
     },
     "metadata": {},
     "output_type": "display_data"
    },
    {
     "data": {
      "application/vnd.jupyter.widget-view+json": {
       "model_id": "bf4b1d99207244b3aacdffca3ae69752",
       "version_major": 2,
       "version_minor": 0
      },
      "text/plain": [
       "diffusion_pytorch_model.safetensors:  17%|#6        | 577M/3.46G [00:00<?, ?B/s]"
      ]
     },
     "metadata": {},
     "output_type": "display_data"
    },
    {
     "name": "stderr",
     "output_type": "stream",
     "text": [
      "C:\\Users\\DELL\\application\\techathon\\dataset_finance_chatBot\\Lib\\site-packages\\huggingface_hub\\file_download.py:140: UserWarning: `huggingface_hub` cache-system uses symlinks by default to efficiently store duplicated files but your machine does not support them in C:\\Users\\DELL\\.cache\\huggingface\\hub\\models--stabilityai--stable-diffusion-2. Caching files will still work but in a degraded version that might require more space on your disk. This warning can be disabled by setting the `HF_HUB_DISABLE_SYMLINKS_WARNING` environment variable. For more details, see https://huggingface.co/docs/huggingface_hub/how-to-cache#limitations.\n",
      "To support symlinks on Windows, you either need to activate Developer Mode or to run Python as an administrator. In order to activate developer mode, see this article: https://docs.microsoft.com/en-us/windows/apps/get-started/enable-your-device-for-development\n",
      "  warnings.warn(message)\n"
     ]
    },
    {
     "data": {
      "application/vnd.jupyter.widget-view+json": {
       "model_id": "f6bcb4f8cbb4463fa659dab6d3e771dc",
       "version_major": 2,
       "version_minor": 0
      },
      "text/plain": [
       "Loading pipeline components...:   0%|          | 0/6 [00:00<?, ?it/s]"
      ]
     },
     "metadata": {},
     "output_type": "display_data"
    },
    {
     "data": {
      "application/vnd.jupyter.widget-view+json": {
       "model_id": "e64e855b2f5446d4aeeb9002bbb7a417",
       "version_major": 2,
       "version_minor": 0
      },
      "text/plain": [
       "  0%|          | 0/50 [00:00<?, ?it/s]"
      ]
     },
     "metadata": {},
     "output_type": "display_data"
    }
   ],
   "source": [
    "pipe = StableDiffusionPipeline.from_pretrained(model_id, scheduler=scheduler, torch_dtype=torch.float16)\n",
    "\n",
    "prompt = \"a photo of an astronaut riding a horse on mars\"\n",
    "image = pipe(prompt).images[0]\n"
   ]
  },
  {
   "cell_type": "code",
   "execution_count": null,
   "id": "157ea2b5-28f6-4260-a487-c6e78b9f1aeb",
   "metadata": {},
   "outputs": [],
   "source": []
  },
  {
   "cell_type": "code",
   "execution_count": null,
   "id": "9c90a4f3-c665-4e11-958d-f9165f38f2d8",
   "metadata": {},
   "outputs": [],
   "source": []
  },
  {
   "cell_type": "code",
   "execution_count": 4,
   "id": "38e82d5f-2f71-45ae-9a9c-f67d624c4494",
   "metadata": {},
   "outputs": [
    {
     "name": "stdout",
     "output_type": "stream",
     "text": [
      "Collecting torch\n",
      "  Using cached torch-2.5.1-cp312-cp312-win_amd64.whl.metadata (28 kB)\n",
      "Collecting torchvision\n",
      "  Using cached torchvision-0.20.1-cp312-cp312-win_amd64.whl.metadata (6.2 kB)\n",
      "Collecting torchaudio\n",
      "  Using cached torchaudio-2.5.1-cp312-cp312-win_amd64.whl.metadata (6.5 kB)\n",
      "Requirement already satisfied: filelock in c:\\users\\dell\\application\\techathon\\dataset_finance_chatbot\\lib\\site-packages (from torch) (3.16.1)\n",
      "Requirement already satisfied: typing-extensions>=4.8.0 in c:\\users\\dell\\application\\techathon\\dataset_finance_chatbot\\lib\\site-packages (from torch) (4.12.2)\n",
      "Collecting networkx (from torch)\n",
      "  Using cached networkx-3.4.2-py3-none-any.whl.metadata (6.3 kB)\n",
      "Requirement already satisfied: jinja2 in c:\\users\\dell\\application\\techathon\\dataset_finance_chatbot\\lib\\site-packages (from torch) (3.1.5)\n",
      "Requirement already satisfied: fsspec in c:\\users\\dell\\application\\techathon\\dataset_finance_chatbot\\lib\\site-packages (from torch) (2024.12.0)\n",
      "Requirement already satisfied: setuptools in c:\\users\\dell\\application\\techathon\\dataset_finance_chatbot\\lib\\site-packages (from torch) (75.7.0)\n",
      "Collecting sympy==1.13.1 (from torch)\n",
      "  Using cached sympy-1.13.1-py3-none-any.whl.metadata (12 kB)\n",
      "Requirement already satisfied: mpmath<1.4,>=1.1.0 in c:\\users\\dell\\application\\techathon\\dataset_finance_chatbot\\lib\\site-packages (from sympy==1.13.1->torch) (1.3.0)\n",
      "Requirement already satisfied: numpy in c:\\users\\dell\\application\\techathon\\dataset_finance_chatbot\\lib\\site-packages (from torchvision) (2.2.1)\n",
      "Requirement already satisfied: pillow!=8.3.*,>=5.3.0 in c:\\users\\dell\\application\\techathon\\dataset_finance_chatbot\\lib\\site-packages (from torchvision) (11.1.0)\n",
      "Requirement already satisfied: MarkupSafe>=2.0 in c:\\users\\dell\\application\\techathon\\dataset_finance_chatbot\\lib\\site-packages (from jinja2->torch) (3.0.2)\n",
      "Using cached torch-2.5.1-cp312-cp312-win_amd64.whl (203.0 MB)\n",
      "Using cached sympy-1.13.1-py3-none-any.whl (6.2 MB)\n",
      "Using cached torchvision-0.20.1-cp312-cp312-win_amd64.whl (1.6 MB)\n",
      "Using cached torchaudio-2.5.1-cp312-cp312-win_amd64.whl (2.4 MB)\n",
      "Using cached networkx-3.4.2-py3-none-any.whl (1.7 MB)\n",
      "Installing collected packages: sympy, networkx, torch, torchvision, torchaudio\n",
      "  Attempting uninstall: sympy\n",
      "    Found existing installation: sympy 1.13.3\n",
      "    Uninstalling sympy-1.13.3:\n",
      "      Successfully uninstalled sympy-1.13.3\n",
      "Successfully installed networkx-3.4.2 sympy-1.13.1 torch-2.5.1 torchaudio-2.5.1 torchvision-0.20.1\n"
     ]
    },
    {
     "name": "stderr",
     "output_type": "stream",
     "text": [
      "\n",
      "[notice] A new release of pip is available: 24.2 -> 24.3.1\n",
      "[notice] To update, run: python.exe -m pip install --upgrade pip\n"
     ]
    }
   ],
   "source": [
    "!pip install torch torchvision torchaudio"
   ]
  },
  {
   "cell_type": "code",
   "execution_count": 2,
   "id": "ed9b31e9-b4c7-4403-8400-4b8e81463b7c",
   "metadata": {},
   "outputs": [
    {
     "name": "stdout",
     "output_type": "stream",
     "text": [
      "Collecting diffusers\n",
      "  Downloading diffusers-0.32.1-py3-none-any.whl.metadata (18 kB)\n",
      "Requirement already satisfied: importlib-metadata in c:\\users\\dell\\application\\techathon\\dataset_finance_chatbot\\lib\\site-packages (from diffusers) (8.5.0)\n",
      "Requirement already satisfied: filelock in c:\\users\\dell\\application\\techathon\\dataset_finance_chatbot\\lib\\site-packages (from diffusers) (3.16.1)\n",
      "Requirement already satisfied: huggingface-hub>=0.23.2 in c:\\users\\dell\\application\\techathon\\dataset_finance_chatbot\\lib\\site-packages (from diffusers) (0.27.1)\n",
      "Requirement already satisfied: numpy in c:\\users\\dell\\application\\techathon\\dataset_finance_chatbot\\lib\\site-packages (from diffusers) (2.2.1)\n",
      "Requirement already satisfied: regex!=2019.12.17 in c:\\users\\dell\\application\\techathon\\dataset_finance_chatbot\\lib\\site-packages (from diffusers) (2024.11.6)\n",
      "Requirement already satisfied: requests in c:\\users\\dell\\application\\techathon\\dataset_finance_chatbot\\lib\\site-packages (from diffusers) (2.32.3)\n",
      "Collecting safetensors>=0.3.1 (from diffusers)\n",
      "  Downloading safetensors-0.5.1-cp38-abi3-win_amd64.whl.metadata (3.9 kB)\n",
      "Collecting Pillow (from diffusers)\n",
      "  Using cached pillow-11.1.0-cp312-cp312-win_amd64.whl.metadata (9.3 kB)\n",
      "Requirement already satisfied: fsspec>=2023.5.0 in c:\\users\\dell\\application\\techathon\\dataset_finance_chatbot\\lib\\site-packages (from huggingface-hub>=0.23.2->diffusers) (2024.12.0)\n",
      "Requirement already satisfied: packaging>=20.9 in c:\\users\\dell\\application\\techathon\\dataset_finance_chatbot\\lib\\site-packages (from huggingface-hub>=0.23.2->diffusers) (24.2)\n",
      "Requirement already satisfied: pyyaml>=5.1 in c:\\users\\dell\\application\\techathon\\dataset_finance_chatbot\\lib\\site-packages (from huggingface-hub>=0.23.2->diffusers) (6.0.2)\n",
      "Requirement already satisfied: tqdm>=4.42.1 in c:\\users\\dell\\application\\techathon\\dataset_finance_chatbot\\lib\\site-packages (from huggingface-hub>=0.23.2->diffusers) (4.67.1)\n",
      "Requirement already satisfied: typing-extensions>=3.7.4.3 in c:\\users\\dell\\application\\techathon\\dataset_finance_chatbot\\lib\\site-packages (from huggingface-hub>=0.23.2->diffusers) (4.12.2)\n",
      "Requirement already satisfied: zipp>=3.20 in c:\\users\\dell\\application\\techathon\\dataset_finance_chatbot\\lib\\site-packages (from importlib-metadata->diffusers) (3.21.0)\n",
      "Requirement already satisfied: charset-normalizer<4,>=2 in c:\\users\\dell\\application\\techathon\\dataset_finance_chatbot\\lib\\site-packages (from requests->diffusers) (3.4.1)\n",
      "Requirement already satisfied: idna<4,>=2.5 in c:\\users\\dell\\application\\techathon\\dataset_finance_chatbot\\lib\\site-packages (from requests->diffusers) (3.10)\n",
      "Requirement already satisfied: urllib3<3,>=1.21.1 in c:\\users\\dell\\application\\techathon\\dataset_finance_chatbot\\lib\\site-packages (from requests->diffusers) (2.3.0)\n",
      "Requirement already satisfied: certifi>=2017.4.17 in c:\\users\\dell\\application\\techathon\\dataset_finance_chatbot\\lib\\site-packages (from requests->diffusers) (2024.12.14)\n",
      "Requirement already satisfied: colorama in c:\\users\\dell\\application\\techathon\\dataset_finance_chatbot\\lib\\site-packages (from tqdm>=4.42.1->huggingface-hub>=0.23.2->diffusers) (0.4.6)\n",
      "Downloading diffusers-0.32.1-py3-none-any.whl (3.2 MB)\n",
      "   ---------------------------------------- 0.0/3.2 MB ? eta -:--:--\n",
      "   ------------- -------------------------- 1.0/3.2 MB 6.3 MB/s eta 0:00:01\n",
      "   ---------------------- ----------------- 1.8/3.2 MB 4.8 MB/s eta 0:00:01\n",
      "   ----------------------------- ---------- 2.4/3.2 MB 4.6 MB/s eta 0:00:01\n",
      "   ---------------------------------------- 3.2/3.2 MB 4.3 MB/s eta 0:00:00\n",
      "Downloading safetensors-0.5.1-cp38-abi3-win_amd64.whl (303 kB)\n",
      "Using cached pillow-11.1.0-cp312-cp312-win_amd64.whl (2.6 MB)\n",
      "Installing collected packages: safetensors, Pillow, diffusers\n",
      "Successfully installed Pillow-11.1.0 diffusers-0.32.1 safetensors-0.5.1\n"
     ]
    },
    {
     "name": "stderr",
     "output_type": "stream",
     "text": [
      "\n",
      "[notice] A new release of pip is available: 24.2 -> 24.3.1\n",
      "[notice] To update, run: python.exe -m pip install --upgrade pip\n"
     ]
    }
   ],
   "source": [
    "!pip install diffusers"
   ]
  },
  {
   "cell_type": "code",
   "execution_count": null,
   "id": "96e74fcd-d60e-494c-a93b-bb63e9939e4d",
   "metadata": {},
   "outputs": [],
   "source": []
  }
 ],
 "metadata": {
  "kernelspec": {
   "display_name": "Python 3 (ipykernel)",
   "language": "python",
   "name": "python3"
  },
  "language_info": {
   "codemirror_mode": {
    "name": "ipython",
    "version": 3
   },
   "file_extension": ".py",
   "mimetype": "text/x-python",
   "name": "python",
   "nbconvert_exporter": "python",
   "pygments_lexer": "ipython3",
   "version": "3.12.5"
  }
 },
 "nbformat": 4,
 "nbformat_minor": 5
}

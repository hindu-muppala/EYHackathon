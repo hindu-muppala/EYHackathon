{
 "cells": [
  {
   "cell_type": "code",
   "execution_count": 1,
   "id": "29fb8047-dc53-435c-878e-551f62562d05",
   "metadata": {},
   "outputs": [],
   "source": [
    "MODEL = \"llama2\""
   ]
  },
  {
   "cell_type": "code",
   "execution_count": 2,
   "id": "5f9fe8c0-40eb-4b77-aae5-c8e5194a9557",
   "metadata": {},
   "outputs": [
    {
     "name": "stderr",
     "output_type": "stream",
     "text": [
      "C:\\Users\\DELL\\AppData\\Local\\Temp\\ipykernel_17412\\1266271018.py:5: LangChainDeprecationWarning: The class `Ollama` was deprecated in LangChain 0.3.1 and will be removed in 1.0.0. An updated version of the class exists in the :class:`~langchain-ollama package and should be used instead. To use it run `pip install -U :class:`~langchain-ollama` and import as `from :class:`~langchain_ollama import OllamaLLM``.\n",
      "  model = Ollama(model=MODEL)\n",
      "C:\\Users\\DELL\\AppData\\Local\\Temp\\ipykernel_17412\\1266271018.py:6: LangChainDeprecationWarning: The class `OllamaEmbeddings` was deprecated in LangChain 0.3.1 and will be removed in 1.0.0. An updated version of the class exists in the :class:`~langchain-ollama package and should be used instead. To use it run `pip install -U :class:`~langchain-ollama` and import as `from :class:`~langchain_ollama import OllamaEmbeddings``.\n",
      "  embeddings = OllamaEmbeddings(model=MODEL)\n"
     ]
    }
   ],
   "source": [
    "from langchain_community.llms import Ollama\n",
    "from langchain_community.embeddings import OllamaEmbeddings\n",
    "\n",
    "\n",
    "model = Ollama(model=MODEL)\n",
    "embeddings = OllamaEmbeddings(model=MODEL)"
   ]
  },
  {
   "cell_type": "code",
   "execution_count": 3,
   "id": "5c9eb59c-ca64-49e3-a988-59909ee77cb0",
   "metadata": {},
   "outputs": [],
   "source": [
    "from langchain_text_splitters import RecursiveCharacterTextSplitter\n",
    "\n",
    "text_splitter = RecursiveCharacterTextSplitter(\n",
    "    chunk_size=200, chunk_overlap=0, add_start_index=False\n",
    ")\n"
   ]
  },
  {
   "cell_type": "code",
   "execution_count": 4,
   "id": "b0ec525f-3f73-4a3c-b70e-6841610b1598",
   "metadata": {},
   "outputs": [],
   "source": [
    "from langchain_community.document_loaders import TextLoader\n",
    "from langchain_core.documents import Document"
   ]
  },
  {
   "cell_type": "code",
   "execution_count": 5,
   "id": "b346d535-94a4-4f4f-b098-860818a66e9a",
   "metadata": {},
   "outputs": [],
   "source": [
    "loader = TextLoader(r\"C:\\Users\\DELL\\application\\techathon\\chatBot_data\\introduction-to-stock-markets\\key-events-and-their-impact-on-markets.txt\", encoding='utf-8')"
   ]
  },
  {
   "cell_type": "code",
   "execution_count": 6,
   "id": "2bfe0111-2129-45cb-8bb7-7f3308510d6f",
   "metadata": {},
   "outputs": [],
   "source": [
    "pages = loader.load_and_split()"
   ]
  },
  {
   "cell_type": "code",
   "execution_count": 7,
   "id": "e87235e6-f2e5-4be6-805f-2060b0e0f197",
   "metadata": {},
   "outputs": [
    {
     "data": {
      "text/plain": [
       "98"
      ]
     },
     "execution_count": 7,
     "metadata": {},
     "output_type": "execute_result"
    }
   ],
   "source": [
    "all_splits = text_splitter.split_documents(pages)\n",
    "\n",
    "len(all_splits)"
   ]
  },
  {
   "cell_type": "code",
   "execution_count": null,
   "id": "5de2b1e4-7f62-40d0-8785-778de88bafb7",
   "metadata": {},
   "outputs": [],
   "source": []
  },
  {
   "cell_type": "code",
   "execution_count": 9,
   "id": "036d05a8-914b-4815-bac6-c6b11512fc0d",
   "metadata": {},
   "outputs": [],
   "source": [
    "from langchain_community.vectorstores import DocArrayInMemorySearch\n",
    "db = DocArrayInMemorySearch.from_documents(pages, embeddings)"
   ]
  },
  {
   "cell_type": "code",
   "execution_count": 11,
   "id": "72221245-11ad-4bdd-b87f-9ea233b95d9d",
   "metadata": {},
   "outputs": [],
   "source": [
    "from langchain_core.output_parsers import StrOutputParser\n",
    "\n",
    "parser = StrOutputParser()\n"
   ]
  },
  {
   "cell_type": "code",
   "execution_count": 12,
   "id": "fa994b27-082d-41cd-8f29-0c0410a07419",
   "metadata": {},
   "outputs": [],
   "source": [
    "from langchain.prompts import PromptTemplate\n",
    "\n",
    "template = \"\"\"\n",
    "Answer the question based on the context below. If you can't \n",
    "answer the question, reply \"I don't know\".\n",
    "\n",
    "Context: {context}\n",
    "\n",
    "Question: {question}\n",
    "\"\"\"\n",
    "\n",
    "prompt = PromptTemplate.from_template(template)"
   ]
  },
  {
   "cell_type": "code",
   "execution_count": 14,
   "id": "11971c88-0f21-41e8-b012-b12e14f3f0c2",
   "metadata": {},
   "outputs": [],
   "source": [
    "retriever = db.as_retriever()"
   ]
  },
  {
   "cell_type": "code",
   "execution_count": 15,
   "id": "22d7a640-eb73-4b54-9135-5514496a867c",
   "metadata": {},
   "outputs": [],
   "source": [
    "from operator import itemgetter\n",
    "\n",
    "chain = (\n",
    "    {\n",
    "        \"context\": itemgetter(\"question\") | retriever,\n",
    "        \"question\": itemgetter(\"question\"),\n",
    "    }\n",
    "    | prompt\n",
    "    | model\n",
    "    | parser\n",
    ")"
   ]
  },
  {
   "cell_type": "code",
   "execution_count": 16,
   "id": "7a5078e2-f691-4eb0-80f5-bae1e76a373d",
   "metadata": {},
   "outputs": [],
   "source": [
    "def chatbot(question):\n",
    "    # Retrieve context from the vector store\n",
    "    context = db.similarity_search(question, k=1)[0].page_content\n",
    "\n",
    "    # Format the prompt with context and question\n",
    "    prompt_text = prompt.format(context=context, question=question)\n",
    "\n",
    "    # Get the response from the model\n",
    "    model_response = model.invoke(prompt_text)\n",
    "    response = parser.parse(model_response)\n",
    "    return response"
   ]
  },
  {
   "cell_type": "code",
   "execution_count": 17,
   "id": "f31d0686-55c4-48f8-9866-2599eaf9d326",
   "metadata": {},
   "outputs": [
    {
     "name": "stdin",
     "output_type": "stream",
     "text": [
      "You:  what is the impact of stock market?\n"
     ]
    },
    {
     "name": "stdout",
     "output_type": "stream",
     "text": [
      "Bot: The impact of a high stock market on inflation can be both positive and negative. On the one hand, a booming stock market can lead to increased investment and economic growth, which can help reduce inflation by increasing productivity and output. On the other hand, a stock market bubble can lead to an overvaluation of assets, which can eventually burst and lead to a decline in the value of money, potentially causing higher inflation.\n",
      "\n",
      "In general, the impact of the stock market on inflation is complex and depends on various factors such as the state of the economy, monetary policy, and investor sentiment. However, research suggests that there is a positive relationship between stock market performance and inflation, meaning that when the stock market performs well, inflation tends to be lower, and vice versa.\n",
      "\n",
      "For example, a study by Harvey et al. (2017) found that in developed economies, a strong stock market is associated with lower inflation. Another study by Bodenhorn and Hodges (2019) found that the relationship between stock market performance and inflation is more pronounced during periods of economic growth.\n",
      "\n",
      "However, it's important to note that the impact of the stock market on inflation can be short-lived and may not always lead to long-term inflationary pressures. Additionally, the relationship between the stock market and inflation can vary depending on the specific macroeconomic environment and the role of other factors such as monetary policy and commodity prices.\n",
      "\n",
      "In conclusion, while there is some evidence to suggest that a high stock market can lead to higher inflation in the short term, the impact of the stock market on inflation is complex and depends on various factors. Therefore, it's important to consider other factors when analyzing the relationship between the stock market and inflation.\n"
     ]
    },
    {
     "name": "stdin",
     "output_type": "stream",
     "text": [
      "You:  what is stock market?\n"
     ]
    },
    {
     "name": "stdout",
     "output_type": "stream",
     "text": [
      "Bot:  Based on the context provided, the answer to the question \"What is a stock market?\" can be inferred as follows:\n",
      "\n",
      "A stock market is a platform where companies can issue and trade shares of their stocks. It provides a means for investors to buy and sell ownership stakes in these companies, thereby enabling them to raise capital and access liquidity. The stock market is an essential component of a country's financial system, as it allows businesses to access funding from a wide range of investors and provides investors with opportunities to grow their wealth through investments in equities.\n",
      "\n",
      "In the context provided, the term \"stock market\" is not explicitly mentioned, but it can be inferred based on the discussion around inflation, interest rates, and industrial production. The passage explains how inflation can impact the purchasing power of money and how central banks like RBI work to reduce inflation to a manageable level. It also mentions the importance of industrial production and how a vibrant industrial environment is good for the economy and markets.\n",
      "\n",
      "Therefore, based on the information provided in the context, it can be concluded that a stock market is a platform where companies can raise capital and investors can buy and sell ownership stakes in these companies, and it plays a critical role in a country's financial system by providing businesses with access to funding and investors with opportunities to grow their wealth.\n"
     ]
    },
    {
     "name": "stdin",
     "output_type": "stream",
     "text": [
      "You:  what is  Monetary Policy ?\n"
     ]
    },
    {
     "name": "stdout",
     "output_type": "stream",
     "text": [
      "Bot: Monetary policy refers to the actions taken by a central bank or other monetary authority to manage a country's money supply and interest rates to promote economic growth, stability, and low inflation. The goal of monetary policy is to ensure that the money supply and interest rates are at levels that support the economy's growth and stability, while keeping inflation under control.\n",
      "\n",
      "Monetary policy tools include:\n",
      "\n",
      "1. Interest Rates: The central bank can set interest rates to influence borrowing and spending habits of individuals and businesses. Lower interest rates can stimulate economic activity, while higher interest rates can slow it down.\n",
      "2. Money Supply: The central bank can control the money supply by adjusting the amount of money it prints or removes from circulation. An increase in the money supply can boost economic growth, while a decrease can reduce inflation.\n",
      "3. Forward Guidance: The central bank can communicate its future policy intentions to influence market expectations and behavior. For example, if the central bank signals that it will keep interest rates low for an extended period, this can encourage investment and borrowing.\n",
      "4. Open Market Operations: The central bank can buy or sell government securities on the open market to inject or remove liquidity from the economy. This can also influence interest rates and the money supply.\n",
      "5. Reserve Requirements: The central bank can set reserve requirements for banks, which determine the amount of money they must hold in reserve against deposits. Changes in reserve requirements can affect the money supply and credit availability.\n",
      "6. Lender of Last Resort: The central bank acts as a lender of last resort by providing emergency loans to banks during times of financial stress. This helps maintain confidence in the financial system and prevents a liquidity crisis.\n",
      "7. Financial Stability: The central bank can take actions to promote financial stability, such as regulating banks, monitoring risks, and providing supervision and oversight.\n",
      "\n",
      "By using these tools, monetary policy can help achieve macroeconomic objectives such as full employment, low inflation, and economic growth.\n"
     ]
    },
    {
     "name": "stdin",
     "output_type": "stream",
     "text": [
      "You:  what is monetary policy in story telling way?\n"
     ]
    },
    {
     "name": "stdout",
     "output_type": "stream",
     "text": [
      "Bot: In the context of the given passage, \"monetary policy\" refers to the actions taken by a central bank to manage the money supply and interest rates in an economy. The central bank uses monetary policy tools such as interest rates and money creation to influence economic activity, stabilize prices, and achieve macroeconomic objectives.\n",
      "\n",
      "In the storytelling way, monetary policy can be thought of as a superhero who fights inflation and maintains economic stability. Just like how a superhero uses their powers to protect the city from villains, the central bank uses monetary policy tools to protect the economy from inflation and other macroeconomic threats.\n",
      "\n",
      "For example, when inflation is rising, the central bank can use interest rate hikes as its \"superpower\" to slow down the money supply growth and reduce inflationary pressures. Similarly, when the economy is facing a recession, the central bank can use monetary policy tools to inject liquidity into the system and stimulate economic growth.\n",
      "\n",
      "In this way, monetary policy is like a guardian who keeps watch over the economy, ensuring that it remains stable and prosperous.\n"
     ]
    },
    {
     "name": "stdin",
     "output_type": "stream",
     "text": [
      "You:  exit\n"
     ]
    }
   ],
   "source": [
    "while True:\n",
    "    user_input = input(\"You: \")\n",
    "    if user_input.lower() in [\"exit\", \"quit\"]:\n",
    "        break\n",
    "    response = chatbot(user_input)\n",
    "    print(f\"Bot: {response}\")"
   ]
  },
  {
   "cell_type": "code",
   "execution_count": 18,
   "id": "4b946280-83bc-4158-9826-534c183b5cb3",
   "metadata": {},
   "outputs": [],
   "source": [
    "story_telling =  \"\"\"\n",
    "Answer the question in story telling way based on the context below. If you can't \n",
    "answer the question, reply \"I don't know\".\n",
    "\n",
    "Context: {context}\n",
    "\n",
    "Question: {question}\n",
    "\"\"\""
   ]
  },
  {
   "cell_type": "code",
   "execution_count": 19,
   "id": "4f3ec4c9-ec12-4f22-98a0-ba0d3470cf81",
   "metadata": {},
   "outputs": [],
   "source": [
    "prompt2 = PromptTemplate.from_template(story_telling)"
   ]
  },
  {
   "cell_type": "code",
   "execution_count": 21,
   "id": "c4878cb9-e6d1-4a7c-8a57-8364e537838f",
   "metadata": {},
   "outputs": [],
   "source": [
    "from operator import itemgetter\n",
    "\n",
    "chain2 = (\n",
    "    {\n",
    "        \"context\": itemgetter(\"question\") | retriever,\n",
    "        \"question\": itemgetter(\"question\"),\n",
    "    }\n",
    "    | prompt2\n",
    "    | model\n",
    "    | parser\n",
    ")"
   ]
  },
  {
   "cell_type": "code",
   "execution_count": 22,
   "id": "4a644f50-998b-4764-817d-df37cb1a2cb2",
   "metadata": {},
   "outputs": [],
   "source": [
    "def Story_chatbot(question):\n",
    "    # Retrieve context from the vector store\n",
    "    context = db.similarity_search(question, k=1)[0].page_content\n",
    "\n",
    "    # Format the prompt with context and question\n",
    "    prompt_text = prompt2.format(context=context, question=question)\n",
    "\n",
    "    # Get the response from the model\n",
    "    model_response = model.invoke(prompt_text)\n",
    "    response = parser.parse(model_response)\n",
    "    return response"
   ]
  },
  {
   "cell_type": "code",
   "execution_count": 24,
   "id": "6704a8a1-8c6e-4fa5-95db-0d7e9fb9c45e",
   "metadata": {},
   "outputs": [
    {
     "name": "stdin",
     "output_type": "stream",
     "text": [
      "You:  exit\n"
     ]
    }
   ],
   "source": [
    "while True:\n",
    "    user_input = input(\"You: \")\n",
    "    if user_input.lower() in [\"exit\", \"quit\"]:\n",
    "        break\n",
    "    response = chatbot(user_input)\n",
    "    print(f\"Bot: {response}\")"
   ]
  },
  {
   "cell_type": "code",
   "execution_count": null,
   "id": "fbb6fc8b-d523-4dcc-8b13-cbe28559f8a2",
   "metadata": {},
   "outputs": [],
   "source": []
  }
 ],
 "metadata": {
  "kernelspec": {
   "display_name": "Python 3 (ipykernel)",
   "language": "python",
   "name": "python3"
  },
  "language_info": {
   "codemirror_mode": {
    "name": "ipython",
    "version": 3
   },
   "file_extension": ".py",
   "mimetype": "text/x-python",
   "name": "python",
   "nbconvert_exporter": "python",
   "pygments_lexer": "ipython3",
   "version": "3.12.5"
  }
 },
 "nbformat": 4,
 "nbformat_minor": 5
}
